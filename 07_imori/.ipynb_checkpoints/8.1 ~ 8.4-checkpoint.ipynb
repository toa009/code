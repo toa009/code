{
 "cells": [
  {
   "cell_type": "markdown",
   "metadata": {},
   "source": [
    "8.1 \n",
    "\n",
    "問題へのアプローチ：\n",
    " - 金銭的に測定できればベスト（収入増大 or コスト削減）\n",
    " - もし完全なモデルができたらいくら金額が変わるのか。\n",
    "\n",
    "8.2 \n",
    "\n",
    "大規模で頑健なシステムと、小さくて早いプロトタイプはトレードオフの関係\n",
    "\n",
    "8.3 \n",
    "\n",
    "運用テスト：\n",
    "1. オフライン評価：　事前に用意したテストセットで評価\n",
    "2. オンラインテスト：　（＝ライブテスト）アルゴリズムを導入したシステム全体を評価\n",
    " - 例：　バンディットアルゴリズム（A/Bテストより複雑）\n",
    "\n",
    "A/Bテスト：　\n",
    "- 情報を伏せたユーザ調査。\n",
    "- Webサイトがユーザに見せる情報を実際に変更すると、ユーザの行動が大きく変わる危険があるので、これを防ぐ\n",
    "- 一部のユーザはアルゴリズムAで、他のユーザにはアルゴリズムB。実環境で一定期間テストして比較し、アルゴリズム選択。\n",
    "- Aに新しいモデル、Bに既存モデルを使用することが多い\n",
    "\n",
    "8.4 \n",
    "\n",
    "オリジナルの予測モデルが作成可能。\n",
    "- sklearnにない前処理で、データに依存し、パイプラインやグリッドサーチや交差検証したい場合に必要。\n",
    "- 参考：　scikit-learn のドキュメント（http://scikit-learn.org/stable/developers/contributing.html#rolling-your-own-estimator)\n",
    "\n",
    "オリジナル分類器や回帰器作成も同様。\n",
    " - TransformerMixinの代わりにClassifierMixinやRegressorMixin使用\n",
    " - transformメソッドの代わりにpredictメソッドを実装"
   ]
  },
  {
   "cell_type": "code",
   "execution_count": 10,
   "metadata": {},
   "outputs": [],
   "source": [
    "# 独自Estimatorクラス作成\n",
    "from sklearn.base import BaseEstimator, TransformerMixin\n",
    "\n",
    "class MyTransformer(BaseEstimator, TransformerMixin):\n",
    "    def __init__(self, p1=1, p2=2):\n",
    "        # 全てのパラメータをここで指定\n",
    "        self.p1 = 1\n",
    "        self.p2 = 2\n",
    "        \n",
    "    def fit(self, x, y=None):\n",
    "        # 教師なしモデルでもyを受け付ける必要がある\n",
    "        # 学習はここで\n",
    "        print(\"fitting the model right here\")\n",
    "        return self\n",
    "    \n",
    "    def transform(self, x):\n",
    "        # xだけ受け取り変換\n",
    "        xt = x + 1\n",
    "        return xt"
   ]
  },
  {
   "cell_type": "code",
   "execution_count": 14,
   "metadata": {},
   "outputs": [
    {
     "name": "stdout",
     "output_type": "stream",
     "text": [
      "fitting the model right here\n"
     ]
    }
   ],
   "source": [
    "# 使ってみる\n",
    "m = MyTransformer()\n",
    "m.fit([1,2], [1,2]);"
   ]
  },
  {
   "cell_type": "code",
   "execution_count": 15,
   "metadata": {},
   "outputs": [
    {
     "data": {
      "text/plain": [
       "2"
      ]
     },
     "execution_count": 15,
     "metadata": {},
     "output_type": "execute_result"
    }
   ],
   "source": [
    "m.transform(1)"
   ]
  }
 ],
 "metadata": {
  "kernelspec": {
   "display_name": "Python 3",
   "language": "python",
   "name": "python3"
  },
  "language_info": {
   "codemirror_mode": {
    "name": "ipython",
    "version": 3
   },
   "file_extension": ".py",
   "mimetype": "text/x-python",
   "name": "python",
   "nbconvert_exporter": "python",
   "pygments_lexer": "ipython3",
   "version": "3.7.0"
  }
 },
 "nbformat": 4,
 "nbformat_minor": 2
}
