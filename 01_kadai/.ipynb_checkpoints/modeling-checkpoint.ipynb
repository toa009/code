{
 "cells": [
  {
   "cell_type": "code",
   "execution_count": null,
   "metadata": {},
   "outputs": [],
   "source": [
    "# 手書き文字認識（モデル構築用）\n",
    "\n",
    "from keras.datasets import mnist \n",
    "from keras.layers import Activation, Dense \n",
    "from keras.models import Sequential \n",
    "from keras import optimizers \n",
    "from keras.utils.np_utils import to_categorical \n",
    "import matplotlib.pyplot as plt \n",
    "\n",
    "from PIL import Image \n",
    "import numpy as np \n",
    "import matplotlib.pyplot as plt \n",
    "from IPython.display import display \n",
    "import glob \n",
    "import os,sys \n",
    "from sklearn.preprocessing import LabelBinarizer \n",
    "from keras.layers import Dropout "
   ]
  },
  {
   "cell_type": "code",
   "execution_count": null,
   "metadata": {},
   "outputs": [],
   "source": [
    "# 1. データ取得\n",
    "\n",
    "# ラベル用辞書作成\n",
    "dic_katakana = {\"a\":0,\"i\":1,\"u\":2,\"e\":3,\"o\":4} \n",
    "pixel = 28 \n",
    "\n",
    "#元画像を表示させる方法¶  28ピクセル*28ピクセルのサイズで、0から255までのグレースケール画像。 \n",
    "id_ = 0 \n",
    "for katakana in dic_katakana.keys(): \n",
    "    img_ = Image.open(\"../1_data/train/%s/%s_%s.png\"%(katakana,katakana, id_)) \n",
    "\n",
    "#元画像をnumpy形式に変換する方法&前処理の例 \n",
    "\n",
    "# trainデータのファイルパスを取得 \n",
    "li_fpath = glob.glob(\"../1_data/train/*/*.png\") \n",
    "li_fpath[:10] \n",
    "\n",
    "# numpy形式に変換 \n",
    "num_image = len(li_fpath) \n",
    "channel = 1 # グレースケール \n",
    "train_data = np.empty((num_image, channel, pixel, pixel)) \n",
    "train_label = [] \n",
    "\n",
    "for i, fpath in enumerate(li_fpath): \n",
    "\n",
    "    label_str = os.path.split(fpath)[1].split(\"_\")[0] \n",
    "    label_int = dic_katakana[label_str] \n",
    "    train_label.append(label_int) \n",
    "\n",
    "\n",
    "    img_ = Image.open(fpath) \n",
    "    img_ = np.array(img_).astype(np.float32) \n",
    "    train_data[i, 0, :] = img_ \n",
    "\n",
    "# print(\"train_data.shape=\", train_data.shape) \n",
    "\n",
    "# 正規化 \n",
    "train_data = train_data / train_data.max() \n",
    "train_data = train_data.astype('float32') \n",
    "#print(train_data) \n",
    "\n",
    "# one hotベクトル化 \n",
    "lb = LabelBinarizer() \n",
    "train_label =lb.fit_transform(train_label).astype('int32') \n",
    "\n",
    "#前処理したデータをファイル保存\n",
    "np.save(\"../1_data/train_data.npy\", train_data) \n",
    "np.save(\"../1_data/train_label.npy\", train_label) "
   ]
  },
  {
   "cell_type": "code",
   "execution_count": null,
   "metadata": {},
   "outputs": [],
   "source": [
    "# 2. モデル構築\n",
    "\n",
    "model = Sequential()\n",
    "model.add(Dense(256, activation='relu', input_dim=784))\n",
    "model.add(Dense(256, activation='relu'))\n",
    "model.add(Dropout(rate=0.5)) \n",
    "model.add(Dense(5, activation='softmax'))\n",
    "\n",
    "#モデルのコンパイル\n",
    "model.compile(optimizer='rmsprop',\n",
    "              loss='categorical_crossentropy',\n",
    "              metrics=['accuracy'])\n",
    "\n",
    "# 次元変換してfitできるようにする\n",
    "train_data = train_data.reshape((1000,784))\n",
    "#train_data.shape"
   ]
  },
  {
   "cell_type": "code",
   "execution_count": null,
   "metadata": {
    "scrolled": true
   },
   "outputs": [],
   "source": [
    "# 3. 学習\n",
    "\n",
    "history = model.fit(train_data, train_label, verbose=0, epochs=50)\n",
    "\n",
    "# 4. 評価\n",
    "\n",
    "score = model.evaluate(train_data, train_label, verbose=1)\n",
    "print(\"evaluate loss: {0[0]}\\nevaluate acc: {0[1]}\".format(score))\n",
    "\n",
    "#　プロット \n",
    "\n",
    "plt.plot(history.history[\"acc\"], label=\"acc\", ls=\"-\", marker=\"o\") \n",
    "plt.ylabel(\"accuracy\") \n",
    "plt.xlabel(\"epoch\") \n",
    "plt.legend(loc=\"best\") \n",
    "plt.show() "
   ]
  },
  {
   "cell_type": "code",
   "execution_count": null,
   "metadata": {},
   "outputs": [],
   "source": [
    "# モデル保存　\n",
    "model.save(\"model.h5\")  "
   ]
  }
 ],
 "metadata": {
  "kernelspec": {
   "display_name": "Python 3",
   "language": "python",
   "name": "python3"
  },
  "language_info": {
   "codemirror_mode": {
    "name": "ipython",
    "version": 3
   },
   "file_extension": ".py",
   "mimetype": "text/x-python",
   "name": "python",
   "nbconvert_exporter": "python",
   "pygments_lexer": "ipython3",
   "version": "3.6.5"
  }
 },
 "nbformat": 4,
 "nbformat_minor": 2
}
