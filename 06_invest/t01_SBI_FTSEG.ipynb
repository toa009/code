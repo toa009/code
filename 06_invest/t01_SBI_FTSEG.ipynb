{
 "cells": [
  {
   "cell_type": "markdown",
   "metadata": {},
   "source": [
    "ＳＢＩ－ＳＢＩ・全世界株式インデックス・ファンド（愛称：雪だるま（全世界株式））"
   ]
  },
  {
   "cell_type": "code",
   "execution_count": 3,
   "metadata": {},
   "outputs": [
    {
     "data": {
      "text/html": [
       "<div>\n",
       "<style scoped>\n",
       "    .dataframe tbody tr th:only-of-type {\n",
       "        vertical-align: middle;\n",
       "    }\n",
       "\n",
       "    .dataframe tbody tr th {\n",
       "        vertical-align: top;\n",
       "    }\n",
       "\n",
       "    .dataframe thead th {\n",
       "        text-align: right;\n",
       "    }\n",
       "</style>\n",
       "<table border=\"1\" class=\"dataframe\">\n",
       "  <thead>\n",
       "    <tr style=\"text-align: right;\">\n",
       "      <th></th>\n",
       "      <th>0</th>\n",
       "      <th>1</th>\n",
       "    </tr>\n",
       "  </thead>\n",
       "  <tbody>\n",
       "    <tr>\n",
       "      <th>0</th>\n",
       "      <td>月曜</td>\n",
       "      <td>10006.0</td>\n",
       "    </tr>\n",
       "    <tr>\n",
       "      <th>1</th>\n",
       "      <td>火曜</td>\n",
       "      <td>10039.0</td>\n",
       "    </tr>\n",
       "    <tr>\n",
       "      <th>2</th>\n",
       "      <td>水曜</td>\n",
       "      <td>10047.0</td>\n",
       "    </tr>\n",
       "    <tr>\n",
       "      <th>3</th>\n",
       "      <td>木曜</td>\n",
       "      <td>10047.0</td>\n",
       "    </tr>\n",
       "    <tr>\n",
       "      <th>4</th>\n",
       "      <td>金曜</td>\n",
       "      <td>10048.0</td>\n",
       "    </tr>\n",
       "  </tbody>\n",
       "</table>\n",
       "</div>"
      ],
      "text/plain": [
       "    0        1\n",
       "0  月曜  10006.0\n",
       "1  火曜  10039.0\n",
       "2  水曜  10047.0\n",
       "3  木曜  10047.0\n",
       "4  金曜  10048.0"
      ]
     },
     "execution_count": 3,
     "metadata": {},
     "output_type": "execute_result"
    }
   ],
   "source": [
    "# 各曜日だけの価格をDF化（df0 ~ df6)\n",
    "\n",
    "import pandas as pd\n",
    "import numpy as np\n",
    "\n",
    "df = pd.read_csv('t01.csv')\n",
    "df['date'] = df['date'].astype('datetime64')\n",
    "\n",
    "df0 = pd.DataFrame(np.full([100,2],0)) # 曜日0（月曜）\n",
    "df1 = pd.DataFrame(np.full([100,2],0)) # 曜日1\n",
    "df2 = pd.DataFrame(np.full([100,2],0)) # 曜日2\n",
    "df3 = pd.DataFrame(np.full([100,2],0)) # 曜日3\n",
    "df4 = pd.DataFrame(np.full([100,2],0)) # 曜日4（金曜）（取引は平日のみなので最終）\n",
    "\n",
    "j0,j1,j2,j3,j4 = 0,0,0,0,0\n",
    "\n",
    "for i in range(len(df)):    \n",
    "    if df['date'][i].weekday() == 0: # 月曜日(0)なら\n",
    "            df0.iloc[j0,0] = df['date'][i].date()\n",
    "            df0.iloc[j0,1] = df['price'][i]\n",
    "            j0 += 1    \n",
    "    elif df['date'][i].weekday() == 1: # 1なら\n",
    "            df1.iloc[j1,0] = df['date'][i].date()\n",
    "            df1.iloc[j1,1] = df['price'][i]\n",
    "            j1 += 1    \n",
    "    elif df['date'][i].weekday() == 2: # 2なら\n",
    "            df2.iloc[j2,0] = df['date'][i].date()\n",
    "            df2.iloc[j2,1] = df['price'][i]\n",
    "            j2 += 1    \n",
    "    elif df['date'][i].weekday() == 3: # 3なら\n",
    "            df3.iloc[j3,0] = df['date'][i].date()\n",
    "            df3.iloc[j3,1] = df['price'][i]\n",
    "            j3 += 1    \n",
    "    elif df['date'][i].weekday() == 4: # 4なら\n",
    "            df4.iloc[j4,0] = df['date'][i].date()\n",
    "            df4.iloc[j4,1] = df['price'][i]\n",
    "            j4 += 1\n",
    "    else: print(error)\n",
    "\n",
    "dfm = pd.DataFrame([\n",
    "    ['月曜',round(df0[0:j0][1].mean(),0)],\n",
    "    ['火曜',round(df1[0:j1][1].mean(),0)],\n",
    "    ['水曜',round(df2[0:j2][1].mean(),0)],\n",
    "    ['木曜',round(df3[0:j3][1].mean(),0)],\n",
    "    ['金曜',round(df4[0:j4][1].mean(),0)],\n",
    "])\n",
    "dfm # 曜日ごとの平均値"
   ]
  },
  {
   "cell_type": "code",
   "execution_count": 15,
   "metadata": {},
   "outputs": [],
   "source": [
    "# 結論：　月曜日が最も安い(0.4%程度しか違わんw)\n",
    "#　　　　　（毎月何日が安いか調べても面白そう）"
   ]
  }
 ],
 "metadata": {
  "kernelspec": {
   "display_name": "Python 3",
   "language": "python",
   "name": "python3"
  },
  "language_info": {
   "codemirror_mode": {
    "name": "ipython",
    "version": 3
   },
   "file_extension": ".py",
   "mimetype": "text/x-python",
   "name": "python",
   "nbconvert_exporter": "python",
   "pygments_lexer": "ipython3",
   "version": "3.7.0"
  }
 },
 "nbformat": 4,
 "nbformat_minor": 2
}
