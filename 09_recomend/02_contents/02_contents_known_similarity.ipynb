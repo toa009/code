{
 "cells": [
  {
   "cell_type": "code",
   "execution_count": 1,
   "metadata": {},
   "outputs": [
    {
     "name": "stdout",
     "output_type": "stream",
     "text": [
      "0.5214058572418556\n"
     ]
    }
   ],
   "source": [
    "# コンテンツベースフィルタリング（類似度が既知の場合）\n",
    "# -*- coding: utf-8 -*-\n",
    "from math import sqrt\n",
    "\n",
    "\n",
    "def similarity(tfidf1, tfidf2):\n",
    "    \"\"\"\n",
    "    Get Cosine Similarity\n",
    "    cosθ = A・B/|A||B|\n",
    "    :param tfidf1: list[list[str, float]]\n",
    "    :param tfidf2: list[list[str, float]]\n",
    "    :rtype : float\n",
    "    \"\"\"\n",
    "    tfidf2_dict = {key: value for key, value in tfidf2}\n",
    "\n",
    "    ab = 0  # A・B\n",
    "    for key, value in tfidf1:\n",
    "        value2 = tfidf2_dict.get(key)\n",
    "        if value2:\n",
    "            ab += float(value * value2)\n",
    "\n",
    "    # |A| and |B|\n",
    "    a = sqrt(sum([v ** 2 for k, v in tfidf1]))\n",
    "    b = sqrt(sum([v ** 2 for k, v in tfidf2]))\n",
    "\n",
    "    return float(ab / (a * b))\n",
    "\n",
    "# 今いくよ・くるよ師匠\n",
    "ikuyo_kuruyo = [\n",
    "    ['京都', 0.131578947369],\n",
    "    ['漫才', 0.122807017544],\n",
    "    ['お笑い', 0.122807017544],\n",
    "    ['ラジオ', 0.105263157894],\n",
    "    ['吉本興業', 0.09649122807],\n",
    "    ['芸人', 0.09649122807],\n",
    "    ['いくよ', 0.0701754385966],\n",
    "    ['コンビ', 0.0701754385966],\n",
    "    ['大阪', 0.0526315789474],\n",
    "    ['名人', 0.0438596491229],\n",
    "    ['上方', 0.0438596491229],\n",
    "    ['花王', 0.0438596491229],\n",
    "]\n",
    "\n",
    "\n",
    "# コロチキ\n",
    "chikichiki = [\n",
    "    ['お笑い', 0.169014084507],\n",
    "    ['西野', 0.12676056338],\n",
    "    ['大阪', 0.112676056338],\n",
    "    ['ナダル', 0.0845070422536],\n",
    "    ['コンビ', 0.0845070422536],\n",
    "    ['優勝', 0.0704225352114],\n",
    "    ['コロコロチキチキペッパーズ', 0.0704225352114],\n",
    "    ['ネタ', 0.0704225352114],\n",
    "    ['芸人', 0.056338028169],\n",
    "    ['吉本興業', 0.056338028169],\n",
    "    ['漫才', 0.056338028169],\n",
    "    ['キングオブコント', 0.0422535211267],\n",
    "]\n",
    "\n",
    "# 類似度の計算\n",
    "print(similarity(ikuyo_kuruyo, chikichiki))"
   ]
  }
 ],
 "metadata": {
  "kernelspec": {
   "display_name": "Python 3",
   "language": "python",
   "name": "python3"
  },
  "language_info": {
   "codemirror_mode": {
    "name": "ipython",
    "version": 3
   },
   "file_extension": ".py",
   "mimetype": "text/x-python",
   "name": "python",
   "nbconvert_exporter": "python",
   "pygments_lexer": "ipython3",
   "version": "3.6.8"
  }
 },
 "nbformat": 4,
 "nbformat_minor": 2
}
