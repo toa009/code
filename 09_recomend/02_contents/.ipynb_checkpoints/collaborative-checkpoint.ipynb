{
 "cells": [
  {
   "cell_type": "markdown",
   "metadata": {},
   "source": [
    "MeCabインストール（windows)： https://toolmania.info/post-9815/"
   ]
  },
  {
   "cell_type": "code",
   "execution_count": 8,
   "metadata": {},
   "outputs": [
    {
     "name": "stdout",
     "output_type": "stream",
     "text": [
      "Python to the moon: 0.38\n",
      "Programming in Ruby is fun: 0.23\n",
      "初めてのPython: 0.20\n",
      "Programming languages of the future: 0.20\n",
      "パーフェクトPython: 0.15\n",
      "Is Ruby better than Python: 0.15\n",
      "Python will rock your world: 0.13\n",
      "Finding the best language for the job: 0.11\n",
      "Could Ruby save the day: 0.06\n",
      "Go言語入門: 0.00\n",
      "継続的デリバリー: 0.00\n",
      "「レベルアップ」のゲームデザイン: 0.00\n",
      "プログラミングRuby: 0.00\n"
     ]
    }
   ],
   "source": [
    "# 協調フィルタリング（ジャッカード指数）（プログラミング書籍名）\n",
    "# https://www.hexacosa.net/blog/detail/164/\n",
    "\n",
    "# coding: utf-8\n",
    "import re\n",
    "import MeCab\n",
    "\n",
    "\n",
    "class Book(object):\n",
    "\n",
    "    def __init__(self, title):\n",
    "        self.title = title\n",
    "        # original\n",
    "        #self.words = [t.lower() for t in set(title.split()) if re.match(\"[a-zA-Z]{3,}\", t)]\n",
    "\n",
    "        # use mecab\n",
    "        tagger = MeCab.Tagger('-Owakati')\n",
    "        node = tagger.parseToNode(self.title)\n",
    "        nodes = set()\n",
    "        while node:\n",
    "            if len(node.surface) < 3:\n",
    "                node = node.next\n",
    "                continue\n",
    "            nodes.update(node.surface)\n",
    "            node = node.next\n",
    "        self.words = nodes\n",
    "\n",
    "\n",
    "class BookRecommender(object):\n",
    "\n",
    "    def __init__(self, book, books):\n",
    "        self.book = book\n",
    "        self.books = books\n",
    "\n",
    "    def recommendations(self):\n",
    "        for book in self.books:\n",
    "            intersection = len(set(self.book.words).intersection(book.words))\n",
    "            union = len(set(self.book.words).union(book.words))\n",
    "            try:\n",
    "                book.jaccard_index = float(intersection) / union\n",
    "            except ZeroDivisionError:\n",
    "                book.jaccard_index = 0.0\n",
    "        self.books.sort(key=lambda b: 1 - b.jaccard_index)\n",
    "        return self.books\n",
    "\n",
    "\n",
    "DATA = \"\"\"\\\n",
    "Go言語入門\n",
    "初めてのPython\n",
    "継続的デリバリー\n",
    "「レベルアップ」のゲームデザイン\n",
    "プログラミングRuby\n",
    "パーフェクトPython\n",
    "Finding the best language for the job\n",
    "Could Ruby save the day\n",
    "Python will rock your world\n",
    "Is Ruby better than Python\n",
    "Programming in Ruby is fun\n",
    "Python to the moon\n",
    "Programming languages of the future\n",
    "\"\"\"\n",
    "#target_book = Book(\"Pythonチュートリアル\")\n",
    "target_book = Book(\"moon\")\n",
    "books = [Book(t) for t in DATA.splitlines()]\n",
    "br = BookRecommender(target_book, books)\n",
    "for b in br.recommendations():\n",
    "    print(\"%s: %.2f\" % (b.title, b.jaccard_index))"
   ]
  }
 ],
 "metadata": {
  "kernelspec": {
   "display_name": "Python 3",
   "language": "python",
   "name": "python3"
  },
  "language_info": {
   "codemirror_mode": {
    "name": "ipython",
    "version": 3
   },
   "file_extension": ".py",
   "mimetype": "text/x-python",
   "name": "python",
   "nbconvert_exporter": "python",
   "pygments_lexer": "ipython3",
   "version": "3.6.8"
  }
 },
 "nbformat": 4,
 "nbformat_minor": 2
}
