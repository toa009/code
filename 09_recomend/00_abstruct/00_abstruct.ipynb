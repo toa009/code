{
 "cells": [
  {
   "cell_type": "markdown",
   "metadata": {},
   "source": [
    "レコメンドアルゴリズムの種類：\n",
    "1. 協調フィルタリング：　人ベース（購入履歴が類似した人に注目。「この商品を買った人は、この商品も・・・」）\n",
    "2. コンテンツフィルタリング：　アイテム(内容）ベース（特徴ベクトルが類似したアイテムに注目）\n",
    "\n",
    "参考：\n",
    "- https://qiita.com/haminiku/items/f5008a57a870e0188f63"
   ]
  }
 ],
 "metadata": {
  "kernelspec": {
   "display_name": "Python 3",
   "language": "python",
   "name": "python3"
  },
  "language_info": {
   "codemirror_mode": {
    "name": "ipython",
    "version": 3
   },
   "file_extension": ".py",
   "mimetype": "text/x-python",
   "name": "python",
   "nbconvert_exporter": "python",
   "pygments_lexer": "ipython3",
   "version": "3.6.8"
  }
 },
 "nbformat": 4,
 "nbformat_minor": 2
}
