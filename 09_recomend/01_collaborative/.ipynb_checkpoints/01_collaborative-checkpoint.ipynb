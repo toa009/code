{
 "cells": [
  {
   "cell_type": "code",
   "execution_count": 78,
   "metadata": {},
   "outputs": [
    {
     "data": {
      "text/plain": [
       "(20, 30)"
      ]
     },
     "execution_count": 78,
     "metadata": {},
     "output_type": "execute_result"
    }
   ],
   "source": [
    "# 協調フィルタリング(差集合)\n",
    "import numpy as np\n",
    "\n",
    "# 顧客ごと商品ごとの販売実績行列作成（20行30列の配列。20人、30商品の購入是非を0、１で表す）\n",
    "r = np.random.RandomState(seed=0)\n",
    "a = r.uniform(0,1,(20,30))\n",
    "data0 = (a > 0.5).astype(int)\n",
    "data0.shape"
   ]
  },
  {
   "cell_type": "code",
   "execution_count": 79,
   "metadata": {},
   "outputs": [
    {
     "data": {
      "text/plain": [
       "array([1, 1, 1, 1, 0, 1, 0, 1, 1, 0, 1, 1, 1, 1, 0, 0, 0, 1, 1, 1, 1, 1,\n",
       "       0, 1, 0, 1, 0, 1, 1, 0])"
      ]
     },
     "execution_count": 79,
     "metadata": {},
     "output_type": "execute_result"
    }
   ],
   "source": [
    "# 顧客0の購入実績（買った：1、買わない：0）\n",
    "data0[0]"
   ]
  },
  {
   "cell_type": "code",
   "execution_count": 94,
   "metadata": {},
   "outputs": [
    {
     "data": {
      "text/plain": [
       "array([20, 13, 12, 18, 19, 15, 13, 14, 15, 17, 10, 14, 19,  7, 16, 16, 12,\n",
       "       15, 21, 13])"
      ]
     },
     "execution_count": 94,
     "metadata": {},
     "output_type": "execute_result"
    }
   ],
   "source": [
    "# 購入数が3以上の顧客（購入数が少なすぎると参考にならないので除外）（sum(axis=1)は、2次元なら「行」の合計を表す）\n",
    "data1 = data0[data0.sum(1) >= 3]\n",
    "data1.sum(1)"
   ]
  },
  {
   "cell_type": "code",
   "execution_count": 95,
   "metadata": {},
   "outputs": [
    {
     "data": {
      "text/plain": [
       "(20, 30)"
      ]
     },
     "execution_count": 95,
     "metadata": {},
     "output_type": "execute_result"
    }
   ],
   "source": [
    "# 顧客数と商品数\n",
    "data1.shape  "
   ]
  },
  {
   "cell_type": "code",
   "execution_count": 96,
   "metadata": {},
   "outputs": [
    {
     "data": {
      "text/plain": [
       "30"
      ]
     },
     "execution_count": 96,
     "metadata": {},
     "output_type": "execute_result"
    }
   ],
   "source": [
    "# 商品数を変数に格納\n",
    "num = data1.shape[1]\n",
    "num"
   ]
  },
  {
   "cell_type": "code",
   "execution_count": 93,
   "metadata": {},
   "outputs": [
    {
     "data": {
      "text/plain": [
       "array([ 1.00000000e+00, -2.37825747e-01, -1.44337567e-01, -1.44337567e-01,\n",
       "        1.95646395e-01,  1.41421356e-01, -9.51302988e-02, -4.72455591e-02,\n",
       "        1.57009246e-17, -4.75651494e-02,  2.00000000e-01, -4.72455591e-02,\n",
       "       -9.78231976e-02,  5.57278213e-02, -2.36227796e-01, -9.44911183e-02,\n",
       "       -7.47818822e-18, -1.41421356e-01, -1.82731874e-17, -9.51302988e-02])"
      ]
     },
     "execution_count": 93,
     "metadata": {},
     "output_type": "execute_result"
    }
   ],
   "source": [
    "# 相関行列（対象者と他の顧客との相関係数のベクトル）から、対象者（target_id行目）の相関係数ベクトルの取得\n",
    "target_id = 0  # 対象者のインデックス作成\n",
    "data2 = np.corrcoef(data1)[target_id] # 相関行列（corrcoef）\n",
    "data2"
   ]
  },
  {
   "cell_type": "code",
   "execution_count": 60,
   "metadata": {},
   "outputs": [
    {
     "data": {
      "text/plain": [
       "array([ 0, 10,  4,  5, 13,  8, 16, 18,  7, 11,  9, 15,  6, 19, 12, 17,  3,\n",
       "        2, 14,  1], dtype=int64)"
      ]
     },
     "execution_count": 60,
     "metadata": {},
     "output_type": "execute_result"
    }
   ],
   "source": [
    "# 相関係数の高い順のインデックス取得（デフォルトでは小さい順のため、マイナスをつける）\n",
    "data3 = (-data2).argsort()\n",
    "data3"
   ]
  },
  {
   "cell_type": "code",
   "execution_count": 61,
   "metadata": {},
   "outputs": [
    {
     "data": {
      "text/plain": [
       "10"
      ]
     },
     "execution_count": 61,
     "metadata": {},
     "output_type": "execute_result"
    }
   ],
   "source": [
    "# 参考顧客のインデックス取得（data3[0]は最も相関の高い人＝自分自身のため、２番目に高い人data3[1]を選択）\n",
    "ref_id = data3[1]\n",
    "ref_id"
   ]
  },
  {
   "cell_type": "code",
   "execution_count": 62,
   "metadata": {},
   "outputs": [
    {
     "data": {
      "text/plain": [
       "array([[ 1,  2,  3,  4,  0,  6,  0,  8,  9,  0, 11, 12, 13, 14,  0,  0,\n",
       "         0, 18, 19, 20, 21, 22,  0, 24,  0, 26,  0, 28, 29,  0],\n",
       "       [ 0,  2,  0,  4,  0,  6,  7,  8,  9, 10,  0,  0, 13,  0, 15, 16,\n",
       "         0,  0,  0,  0, 21,  0, 23,  0,  0,  0, 27,  0,  0,  0]])"
      ]
     },
     "execution_count": 62,
     "metadata": {},
     "output_type": "execute_result"
    }
   ],
   "source": [
    "# 購入かどうか（0か1）の配列を、購入した商品の番号の配列に変換（[1,2,3,4,5...]の配列rangeと積をとる）\n",
    "data4 = data1 * range(1, num + 1)\n",
    "data4[:2]  # 最初の2人"
   ]
  },
  {
   "cell_type": "code",
   "execution_count": 63,
   "metadata": {},
   "outputs": [
    {
     "data": {
      "text/plain": [
       "array([ 0,  1,  2,  9, 11, 18, 19, 20, 28])"
      ]
     },
     "execution_count": 63,
     "metadata": {},
     "output_type": "execute_result"
    }
   ],
   "source": [
    "# 参考顧客との共通部分（対象顧客：ref_id）（参照顧客：target_id）（積集合：intersect）\n",
    "data5 = np.intersect1d(data4[ref_id], data4[target_id])\n",
    "data5 # 対象者と参照顧客が共に購入した商品番号"
   ]
  },
  {
   "cell_type": "code",
   "execution_count": 64,
   "metadata": {},
   "outputs": [
    {
     "data": {
      "text/plain": [
       "array([15, 27])"
      ]
     },
     "execution_count": 64,
     "metadata": {},
     "output_type": "execute_result"
    }
   ],
   "source": [
    "# 参考顧客との差集合(：setdiff)\n",
    "data6 = np.setdiff1d(data4[ref_id], data4[target_id])\n",
    "data6  # レコメンド商品番号"
   ]
  },
  {
   "cell_type": "code",
   "execution_count": 65,
   "metadata": {},
   "outputs": [],
   "source": [
    "# -> 上記商品をおすすめすれば良い。"
   ]
  }
 ],
 "metadata": {
  "kernelspec": {
   "display_name": "Python 3",
   "language": "python",
   "name": "python3"
  },
  "language_info": {
   "codemirror_mode": {
    "name": "ipython",
    "version": 3
   },
   "file_extension": ".py",
   "mimetype": "text/x-python",
   "name": "python",
   "nbconvert_exporter": "python",
   "pygments_lexer": "ipython3",
   "version": "3.6.8"
  }
 },
 "nbformat": 4,
 "nbformat_minor": 2
}
