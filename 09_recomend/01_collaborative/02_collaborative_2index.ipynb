{
 "cells": [
  {
   "cell_type": "code",
   "execution_count": 2,
   "metadata": {},
   "outputs": [
    {
     "name": "stdout",
     "output_type": "stream",
     "text": [
      "共起\n",
      "defaultdict(<class 'int'>, {'A': 1, 'B': 2, 'C': 1, 'D': 1, 'E': 0})\n",
      "ジャッカード指数\n",
      "defaultdict(<class 'float'>, {'A': 0.2, 'B': 0.5, 'C': 0.16666666666666666, 'D': 0.3333333333333333, 'E': 0.0})\n"
     ]
    }
   ],
   "source": [
    "# 協調フィルタリング（共起 + ジャッカード指数）\n",
    "# https://qiita.com/haminiku/items/f5008a57a870e0188f63\n",
    "\n",
    "# -*- coding: utf-8 -*-\n",
    "from __future__ import absolute_import\n",
    "from __future__ import unicode_literals\n",
    "from collections import defaultdict\n",
    "\n",
    "\n",
    "def jaccard(e1, e2):\n",
    "    \"\"\"\n",
    "    ジャッカード指数を計算する\n",
    "    :param e1: list of int\n",
    "    :param e2: list of int\n",
    "    :rtype: float\n",
    "    \"\"\"\n",
    "    set_e1 = set(e1)\n",
    "    set_e2 = set(e2)\n",
    "    return float(len(set_e1 & set_e2)) / float(len(set_e1 | set_e2))\n",
    "\n",
    "# 商品Xを購入した顧客IDが1,3,5ということ\n",
    "product_x = [1, 3, 5]\n",
    "product_a = [2, 4, 5]\n",
    "product_b = [1, 2, 3]\n",
    "product_c = [2, 3, 4, 7]\n",
    "product_d = [3]\n",
    "product_e = [4, 6, 7]\n",
    "\n",
    "# 商品データ\n",
    "products = {\n",
    "    'A': product_a,\n",
    "    'B': product_b,\n",
    "    'C': product_c,\n",
    "    'D': product_d,\n",
    "    'E': product_e,\n",
    "}\n",
    "\n",
    "# Xとの共起値を計算する\n",
    "print(\"共起\")\n",
    "r = defaultdict(int)\n",
    "\n",
    "for key in products:\n",
    "    overlap = list(set(product_x) & set(products[key]))\n",
    "    r[key] = len(overlap)\n",
    "print(r)\n",
    "\n",
    "# Xとのジャッカード指数を計算する\n",
    "print(\"ジャッカード指数\")\n",
    "r2 = defaultdict(float)\n",
    "for key in products:\n",
    "    r2[key] = jaccard(product_x, products[key])\n",
    "print(r2)"
   ]
  },
  {
   "cell_type": "code",
   "execution_count": null,
   "metadata": {},
   "outputs": [],
   "source": [
    "# -> 共起でもジャッカード指数でも傾向は似ている\n",
    "#    共起の方が計算結果は大雑把だが、計算コストは低い"
   ]
  }
 ],
 "metadata": {
  "kernelspec": {
   "display_name": "Python 3",
   "language": "python",
   "name": "python3"
  },
  "language_info": {
   "codemirror_mode": {
    "name": "ipython",
    "version": 3
   },
   "file_extension": ".py",
   "mimetype": "text/x-python",
   "name": "python",
   "nbconvert_exporter": "python",
   "pygments_lexer": "ipython3",
   "version": "3.6.8"
  }
 },
 "nbformat": 4,
 "nbformat_minor": 2
}
