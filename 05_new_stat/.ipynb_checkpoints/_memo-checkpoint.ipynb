{
 "cells": [
  {
   "cell_type": "markdown",
   "metadata": {},
   "source": [
    "# 見出し\n",
    "\n",
    "1. テキスト\n",
    "\n",
    "- 箇条書き\n",
    " - インデント\n",
    "  - あ\n",
    "  - fe\n",
    "- か\n",
    "\n",
    "`テキスト`\n",
    "\n",
    "[リンク](https://www.google.co.jp/)\n",
    "\n",
    "**太字**\n",
    "\n",
    "\\エスケープ\n",
    "\n",
    "***\n",
    "---\n",
    "\n",
    "```python\n",
    "\n",
    "if a > 0:\n",
    "    print('Hello')\n",
    "\n",
    "```\n",
    "\n",
    "| 1 | 2 |\n",
    "|:-:|:-:|\n",
    "| 1 | 2 |\n",
    "| 1 | 2 |\n",
    "\n",
    "\n",
    "<font color=\"Red\">テキスト</font>\n",
    "\n",
    "</ br>\n"
   ]
  },
  {
   "cell_type": "markdown",
   "metadata": {},
   "source": [
    "jupyterテーマメモ　\n",
    "　jt -t onedork -vim -N -T -tfs 10 -lineh 170 -ofs 10"
   ]
  }
 ],
 "metadata": {
  "kernelspec": {
   "display_name": "Python 3",
   "language": "python",
   "name": "python3"
  },
  "language_info": {
   "codemirror_mode": {
    "name": "ipython",
    "version": 3
   },
   "file_extension": ".py",
   "mimetype": "text/x-python",
   "name": "python",
   "nbconvert_exporter": "python",
   "pygments_lexer": "ipython3",
   "version": "3.7.0"
  }
 },
 "nbformat": 4,
 "nbformat_minor": 2
}
