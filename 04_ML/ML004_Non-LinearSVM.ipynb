{
 "cells": [
  {
   "cell_type": "code",
   "execution_count": 2,
   "metadata": {
    "scrolled": true
   },
   "outputs": [
    {
     "data": {
      "text/plain": [
       "0.986"
      ]
     },
     "execution_count": 2,
     "metadata": {},
     "output_type": "execute_result"
    }
   ],
   "source": [
    "# ML4_Non-LinearSVM\n",
    "\n",
    "from sklearn.datasets import make_gaussian_quantiles\n",
    "\n",
    "ax, ay = make_gaussian_quantiles(n_samples=1000, n_features=2, random_state=0)\n",
    "\n",
    "# Li------------------------------------\n",
    "\n",
    "from sklearn.svm import SVC\n",
    "m = SVC()\n",
    "\n",
    "# ------------------------------------\n",
    "\n",
    "m.fit(ax, ay)\n",
    "m.score(ax, ay)"
   ]
  }
 ],
 "metadata": {
  "kernelspec": {
   "display_name": "Python 2",
   "language": "python",
   "name": "python2"
  },
  "language_info": {
   "codemirror_mode": {
    "name": "ipython",
    "version": 2
   },
   "file_extension": ".py",
   "mimetype": "text/x-python",
   "name": "python",
   "nbconvert_exporter": "python",
   "pygments_lexer": "ipython2",
   "version": "2.7.10"
  }
 },
 "nbformat": 4,
 "nbformat_minor": 2
}
