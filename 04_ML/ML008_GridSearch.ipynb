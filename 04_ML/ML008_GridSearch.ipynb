{
 "cells": [
  {
   "cell_type": "code",
   "execution_count": 10,
   "metadata": {
    "scrolled": true
   },
   "outputs": [
    {
     "name": "stdout",
     "output_type": "stream",
     "text": [
      "適用あり\n",
      "{'kernel': 'poly', 'C': 1e-05, 'random_state': 0, 'decision_function_shape': 'ovr'}\n",
      "0.9888888888888889\n",
      "適用なし\n",
      "0.4866666666666667\n"
     ]
    }
   ],
   "source": [
    "# ML8_GridSearch\n",
    "\n",
    "import scipy.stats\n",
    "from sklearn.datasets import load_digits\n",
    "from sklearn.svm import SVC\n",
    "from sklearn.model_selection import GridSearchCV # GridSearch\n",
    "from sklearn.model_selection import train_test_split\n",
    "from sklearn.metrics import f1_score\n",
    "\n",
    "dt = load_digits()\n",
    "\n",
    "ax, ex, ay, ey = train_test_split(dt.data, dt.target, random_state=0)\n",
    "\n",
    "mp = {SVC(): {\n",
    "    \"kernel\": [\"linear\", \"poly\", \"rbf\", \"sigmoid\"],\n",
    "    \"C\": [10 ** i for i in range(-5, 5)], # GridSearch\n",
    "    \"decision_function_shape\": [\"ovr\", \"ovo\"],\n",
    "    \"random_state\": [0] # GridSearch\n",
    "}}\n",
    "\n",
    "max_score = 0\n",
    "best_param = None \n",
    "\n",
    "for m, p in mp.items():\n",
    "    m = GridSearchCV(m, p) # GridSearch\n",
    "    m.fit(ax, ay)\n",
    "    py = m.predict(ex)\n",
    "    sc = f1_score(ey, py, average=\"micro\")\n",
    "    if max_score < sc:\n",
    "        max_score = sc\n",
    "        best_model = m.__class__.__name__\n",
    "        best_param = m.best_params_\n",
    "        \n",
    "# 結果1（適用あり）\n",
    "print(\"適用あり\")\n",
    "print(best_param)\n",
    "print(max_score)\n",
    "\n",
    "# 結果2（適用なし）\n",
    "m0 = SVC()\n",
    "m0.fit(ax, ay)\n",
    "\n",
    "print(\"適用なし\")\n",
    "print(m0.score(ex,ey))\n"
   ]
  },
  {
   "cell_type": "code",
   "execution_count": null,
   "metadata": {},
   "outputs": [],
   "source": []
  }
 ],
 "metadata": {
  "kernelspec": {
   "display_name": "Python 2",
   "language": "python",
   "name": "python2"
  },
  "language_info": {
   "codemirror_mode": {
    "name": "ipython",
    "version": 2
   },
   "file_extension": ".py",
   "mimetype": "text/x-python",
   "name": "python",
   "nbconvert_exporter": "python",
   "pygments_lexer": "ipython2",
   "version": "2.7.10"
  }
 },
 "nbformat": 4,
 "nbformat_minor": 2
}
