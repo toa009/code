{
 "cells": [
  {
   "cell_type": "code",
   "execution_count": 3,
   "metadata": {
    "scrolled": true
   },
   "outputs": [
    {
     "name": "stdout",
     "output_type": "stream",
     "text": [
      "適用あり\n",
      "{'kernel': 'poly', 'C': 350.46177818649073, 'random_state': 59, 'decision_function_shape': 'ovr'}\n",
      "0.9822222222222222\n",
      "適用なし\n",
      "0.4866666666666667\n"
     ]
    }
   ],
   "source": [
    "# ML9_RandomizedSearch\n",
    "import scipy.stats\n",
    "from sklearn.datasets import load_digits\n",
    "from sklearn.svm import SVC\n",
    "from sklearn.model_selection import RandomizedSearchCV # RandomizedSearch\n",
    "from sklearn.model_selection import train_test_split\n",
    "from sklearn.metrics import f1_score\n",
    "# データロード\n",
    "dt = load_digits()\n",
    "# データ分割\n",
    "ax, ex, ay, ey = train_test_split(dt.data, dt.target, random_state=0)\n",
    "# パラメタ辞書作成\n",
    "mp = {SVC(): {\n",
    "    \"kernel\": [\"linear\", \"poly\", \"rbf\", \"sigmoid\"],\n",
    "    \"C\": scipy.stats.uniform(0.00001, 1000), # RandomizedSearch\n",
    "    \"decision_function_shape\": [\"ovr\", \"ovo\"],\n",
    "    \"random_state\": scipy.stats.randint(0,100) # RandomizedSearch\n",
    "}}\n",
    "# 定数作成\n",
    "max_score = 0\n",
    "best_param = None \n",
    "# パラメタ辞書から値取り出し\n",
    "for m, p in mp.items():\n",
    "    # ランダムサーチ\n",
    "    m = RandomizedSearchCV(m, p) \n",
    "    # 適合\n",
    "    m.fit(ax, ay)\n",
    "    # 予測\n",
    "    py = m.predict(ex)\n",
    "    # スコア算出\n",
    "    sc = f1_score(ey, py, average=\"micro\")\n",
    "    # スコアがベストを更新したら\n",
    "    if max_score < sc:\n",
    "        # ベストスコア更新\n",
    "        max_score = sc\n",
    "        # モデル名保存\n",
    "        best_model = m.__class__.__name__\n",
    "        # ベストパラメタ保存\n",
    "        best_param = m.best_params_\n",
    "        \n",
    "# 結果1（適用あり）（ベストパラメタ・ベストスコア）\n",
    "print(\"適用あり\")\n",
    "print(best_param)\n",
    "print(max_score)\n",
    "\n",
    "# 結果2（適用なし）（テストスコア）\n",
    "m0 = SVC()\n",
    "m0.fit(ax, ay)\n",
    "print(\"適用なし\")\n",
    "print(m0.score(ex,ey))"
   ]
  }
 ],
 "metadata": {
  "kernelspec": {
   "display_name": "Python 3",
   "language": "python",
   "name": "python3"
  },
  "language_info": {
   "codemirror_mode": {
    "name": "ipython",
    "version": 3
   },
   "file_extension": ".py",
   "mimetype": "text/x-python",
   "name": "python",
   "nbconvert_exporter": "python",
   "pygments_lexer": "ipython3",
   "version": "3.6.7"
  }
 },
 "nbformat": 4,
 "nbformat_minor": 2
}
