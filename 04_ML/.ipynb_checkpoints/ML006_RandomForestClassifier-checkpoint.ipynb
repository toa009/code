{
 "cells": [
  {
   "cell_type": "code",
   "execution_count": 2,
   "metadata": {
    "scrolled": true
   },
   "outputs": [
    {
     "data": {
      "text/plain": [
       "0.999"
      ]
     },
     "execution_count": 2,
     "metadata": {},
     "output_type": "execute_result"
    }
   ],
   "source": [
    "# ML6_RandomForestClassifier\n",
    "# データ作成\n",
    "from sklearn.datasets import make_gaussian_quantiles\n",
    "ax, ay = make_gaussian_quantiles(n_samples=1000, n_features=2, random_state=0)\n",
    "# モデル構築（RandomForestClassifier）\n",
    "from sklearn.ensemble import RandomForestClassifier\n",
    "m = RandomForestClassifier()\n",
    "# 学習\n",
    "m.fit(ax, ay)\n",
    "# 精度算出\n",
    "m.score(ax, ay)"
   ]
  }
 ],
 "metadata": {
  "kernelspec": {
   "display_name": "Python 3",
   "language": "python",
   "name": "python3"
  },
  "language_info": {
   "codemirror_mode": {
    "name": "ipython",
    "version": 3
   },
   "file_extension": ".py",
   "mimetype": "text/x-python",
   "name": "python",
   "nbconvert_exporter": "python",
   "pygments_lexer": "ipython3",
   "version": "3.6.7"
  }
 },
 "nbformat": 4,
 "nbformat_minor": 2
}
