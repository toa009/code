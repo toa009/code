{
 "cells": [
  {
   "cell_type": "code",
   "execution_count": 8,
   "metadata": {
    "scrolled": true
   },
   "outputs": [
    {
     "data": {
      "text/plain": [
       "array([0, 0, 0, 1])"
      ]
     },
     "execution_count": 8,
     "metadata": {},
     "output_type": "execute_result"
    }
   ],
   "source": [
    "# 1. ML(And Circuit)\n",
    "# インポート\n",
    "from sklearn.svm import LinearSVC\n",
    "# 訓練データ作成ax, 訓練ラベルay, テストデータex作成\n",
    "ax = [[0,0,],[0,1],[1,0],[1,1]]\n",
    "ay = [0,0,0,1]\n",
    "ex = ax\n",
    "# モデル構築、学習\n",
    "m = LinearSVC()\n",
    "m.fit(ax, ay)\n",
    "# 予測\n",
    "m.predict(ex)"
   ]
  }
 ],
 "metadata": {
  "kernelspec": {
   "display_name": "Python 3",
   "language": "python",
   "name": "python3"
  },
  "language_info": {
   "codemirror_mode": {
    "name": "ipython",
    "version": 3
   },
   "file_extension": ".py",
   "mimetype": "text/x-python",
   "name": "python",
   "nbconvert_exporter": "python",
   "pygments_lexer": "ipython3",
   "version": "3.6.7"
  }
 },
 "nbformat": 4,
 "nbformat_minor": 2
}
