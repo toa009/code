{
  "cells": [
    {
      "metadata": {
        "_cell_guid": "79c7e3d0-c299-4dcb-8224-4455121ee9b0",
        "_uuid": "d629ff2d2480ee46fbb7e2d37f6b5fab8052498a",
        "trusted": true
      },
      "cell_type": "code",
      "source": "import pandas as pd\n\ndf1 = pd.read_csv('../input/train.csv')\ndf2 = pd.read_csv('../input/test.csv')\n\ndf1.isnull().sum()",
      "execution_count": null,
      "outputs": []
    },
    {
      "metadata": {
        "trusted": true,
        "_uuid": "826ba6f79bacaaccecd1ee8a5fde19ea20998b9b"
      },
      "cell_type": "code",
      "source": "df2.isnull().sum()",
      "execution_count": null,
      "outputs": []
    },
    {
      "metadata": {
        "trusted": true,
        "_uuid": "881747d56ec38919426d15488cbb9e5ca0fbd529"
      },
      "cell_type": "code",
      "source": "df1[df1['Embarked'].isnull()]",
      "execution_count": null,
      "outputs": []
    },
    {
      "metadata": {
        "trusted": true,
        "_uuid": "7b691b6518819cdd677b403f636c2f6b9f979740"
      },
      "cell_type": "code",
      "source": "df1.loc[df1['PassengerId'].isin([62,830]), 'Embarked']",
      "execution_count": null,
      "outputs": []
    },
    {
      "metadata": {
        "trusted": true,
        "_uuid": "da5bd2b75cf80489513595357354b729ac93cd83"
      },
      "cell_type": "code",
      "source": "df1.loc[df1['PassengerId'].isin([62,830]), 'Embarked'] = 'C'",
      "execution_count": null,
      "outputs": []
    },
    {
      "metadata": {
        "trusted": true,
        "_uuid": "00e9eb09fe9d4ba29d5ec46deb99385070a24d8d"
      },
      "cell_type": "code",
      "source": "df1.loc[df1['PassengerId'].isin([62,830]), 'Embarked']",
      "execution_count": null,
      "outputs": []
    },
    {
      "metadata": {
        "trusted": true,
        "_uuid": "66fb178e8ddaf26c960c656cab1b7a7732b49418"
      },
      "cell_type": "code",
      "source": "df2['Fare'].groupby(df2['Pclass']).mean()",
      "execution_count": null,
      "outputs": []
    },
    {
      "metadata": {
        "trusted": true,
        "_uuid": "98b9b5a1873d054836e131393d3c560dce743479"
      },
      "cell_type": "code",
      "source": "df2.loc[df2['PassengerId'] == 1044, 'Fare']",
      "execution_count": null,
      "outputs": []
    },
    {
      "metadata": {
        "trusted": true,
        "_uuid": "516b41e123f41e8115038d62979b015c2cf66554"
      },
      "cell_type": "code",
      "source": "df2.loc[df2['PassengerId'] == 1044, 'Fare'] = 12.45",
      "execution_count": null,
      "outputs": []
    },
    {
      "metadata": {
        "trusted": true,
        "_uuid": "f389832d23a9de41d125737fb54f9805671551d0"
      },
      "cell_type": "code",
      "source": "df2.loc[df2['PassengerId'] == 1044, 'Fare']",
      "execution_count": null,
      "outputs": []
    },
    {
      "metadata": {
        "trusted": true,
        "_uuid": "1f8acc87c0a02ac68305cc1c1c0007a94d0f48d2"
      },
      "cell_type": "code",
      "source": "df1.loc[df1['PassengerId'].isin([62,830]), 'Embarked']",
      "execution_count": null,
      "outputs": []
    },
    {
      "metadata": {
        "trusted": true,
        "_uuid": "215a48ae9192d49063e57ea8348e8f18bf3aff5d"
      },
      "cell_type": "code",
      "source": "def impute_age(cols):\n    Age = cols[0]\n    Pclass = cols[1]\n    \n    if pd.isnull(Age):\n        if Pclass == 1: return 39\n        if Pclass == 2: return 30\n        if Pclass == 3: return 25\n    else:\n        return Age\n",
      "execution_count": null,
      "outputs": []
    },
    {
      "metadata": {
        "trusted": true,
        "_uuid": "e1fbf7a7bd8d83976e36bf8de97e784decc5980b"
      },
      "cell_type": "code",
      "source": "for df in [df1, df2]:\n    df['Age'] = df[['Age', 'Pclass']].apply(impute_age, axis=1)\n    df['Sex'] = df['Sex'].map({'male':0, 'female':1})\n    df['Embarked'] = df['Embarked'].map({'S':0, 'C':1, 'Q':2})\n    \n    df.loc[df['Fare'] <= 7.91, 'Fare'] = 0\n    df.loc[(df['Fare'] > 7.91) & (df['Fare'] <= 14.454), 'Fare'] = 1\n    df.loc[(df['Fare'] > 14.454) & (df['Fare'] <= 31), 'Fare'] = 2\n    df.loc[(df['Fare'] > 31), 'Fare'] = 3\n    df['Fare'] = df['Fare'].astype(int)\n\n    df.loc[df['Age'] <= 16, 'Age'] = 0\n    df.loc[(df['Age'] > 16) & (df['Age'] <= 32), 'Age'] = 1\n    df.loc[(df['Age'] > 32) & (df['Age'] <= 48), 'Age'] = 2\n    df.loc[(df['Age'] > 48), 'Age'] = 3\n    df['Age'] = df['Age'].astype(int)\n    \n    df['FamilySize'] = 1 + df['SibSp'] + df['Parch']\n    df['IsAlone'] = 0\n    df.loc[df['FamilySize'] == 1, 'IsAlone'] = 1",
      "execution_count": null,
      "outputs": []
    },
    {
      "metadata": {
        "trusted": true,
        "_uuid": "d17f74a41b4e589fd512d6a2f4f1a1ad4ac50f3b"
      },
      "cell_type": "code",
      "source": "df1 = df1.drop(['Name', 'Cabin', 'Ticket', 'SibSp', 'Parch'], axis=1)",
      "execution_count": null,
      "outputs": []
    },
    {
      "metadata": {
        "trusted": true,
        "_uuid": "a071b8f5815807640002600ac0545ed505301d1b"
      },
      "cell_type": "code",
      "source": "df1.head()",
      "execution_count": null,
      "outputs": []
    },
    {
      "metadata": {
        "trusted": true,
        "_uuid": "f7a47d05e8bf8ae183b776909f79260a4e6a7bc2"
      },
      "cell_type": "code",
      "source": "df2 = df2.drop(['Name', 'Cabin', 'Ticket', 'SibSp', 'Parch'], axis=1)",
      "execution_count": null,
      "outputs": []
    },
    {
      "metadata": {
        "trusted": true,
        "_uuid": "13fa3bbc45b421d187d155d295c543dc312694d2"
      },
      "cell_type": "code",
      "source": "df2.head()",
      "execution_count": null,
      "outputs": []
    },
    {
      "metadata": {
        "trusted": true,
        "_uuid": "2c18a358276b0f321fff29b2bd327e50fb1e819e"
      },
      "cell_type": "code",
      "source": "df1.isnull().sum()",
      "execution_count": null,
      "outputs": []
    },
    {
      "metadata": {
        "trusted": true,
        "_uuid": "c2ff5289bdc9958391358de6077b04ed89d777bf"
      },
      "cell_type": "code",
      "source": "df2.isnull().sum()",
      "execution_count": null,
      "outputs": []
    },
    {
      "metadata": {
        "trusted": true,
        "_uuid": "2248aad2a1de51279351d6697790d3f43b9d2920"
      },
      "cell_type": "code",
      "source": "df1[df1['Embarked'].isnull()]",
      "execution_count": null,
      "outputs": []
    },
    {
      "metadata": {
        "trusted": true,
        "_uuid": "9d1d53a5179d83aca40a32b54f96331fe81ee811"
      },
      "cell_type": "code",
      "source": "df1.isnull().sum()",
      "execution_count": null,
      "outputs": []
    },
    {
      "metadata": {
        "trusted": true,
        "_uuid": "a57703c79a751926b46de273bef3f19eb3c506de"
      },
      "cell_type": "code",
      "source": "df2.isnull().sum()",
      "execution_count": null,
      "outputs": []
    },
    {
      "metadata": {
        "trusted": true,
        "_uuid": "397194e91a2ec50ee175d4fbbc42a193029430fc"
      },
      "cell_type": "code",
      "source": "ax = df1.drop(['PassengerId', 'Survived'], axis=1)\nay = df1['Survived']\nex = df2.drop(['PassengerId'], axis=1)",
      "execution_count": null,
      "outputs": []
    },
    {
      "metadata": {
        "trusted": true,
        "_uuid": "3cff769c57edabeca310001b585816da3430552d"
      },
      "cell_type": "code",
      "source": "import lightgbm as lgb\nm = lgb.LGBMClassifier(objective='binary', learning_rate=0.1, num_leaves=300)\n\n'''\nfrom sklearn.ensemble import RandomForestClassifier\nm = RandomForestClassifier(random_state=0)\n'''\n\nm.fit(ax,ay)\npy = m.predict(ex)\n",
      "execution_count": null,
      "outputs": []
    },
    {
      "metadata": {
        "trusted": true,
        "_uuid": "9f235ded0ef42ea8a1144ea4556524dc10292ce6"
      },
      "cell_type": "code",
      "source": "\ns = pd.DataFrame({\n    'PassengerId': df2['PassengerId'],\n    'Survived': py\n})\ns.to_csv('s1117_2.csv', index=False)",
      "execution_count": null,
      "outputs": []
    },
    {
      "metadata": {
        "trusted": true,
        "_uuid": "0d990b44bb32cd117c76bf9473b9aec8a8e606f2"
      },
      "cell_type": "code",
      "source": "\n",
      "execution_count": null,
      "outputs": []
    }
  ],
  "metadata": {
    "kernelspec": {
      "display_name": "Python 3",
      "language": "python",
      "name": "python3"
    },
    "language_info": {
      "name": "python",
      "version": "3.6.6",
      "mimetype": "text/x-python",
      "codemirror_mode": {
        "name": "ipython",
        "version": 3
      },
      "pygments_lexer": "ipython3",
      "nbconvert_exporter": "python",
      "file_extension": ".py"
    }
  },
  "nbformat": 4,
  "nbformat_minor": 1
}